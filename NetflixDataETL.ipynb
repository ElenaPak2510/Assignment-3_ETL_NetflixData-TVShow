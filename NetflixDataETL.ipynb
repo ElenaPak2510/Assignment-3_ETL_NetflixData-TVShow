{
 "cells": [
  {
   "cell_type": "code",
   "execution_count": 0,
   "metadata": {
    "application/vnd.databricks.v1+cell": {
     "cellMetadata": {
      "byteLimit": 2048000,
      "rowLimit": 10000
     },
     "inputWidgets": {},
     "nuid": "635d5e4c-22ee-4ce2-a986-397b78106432",
     "showTitle": false,
     "tableResultSettingsMap": {},
     "title": ""
    }
   },
   "outputs": [
    {
     "output_type": "stream",
     "name": "stdout",
     "output_type": "stream",
     "text": [
      "+--------+-------+-----------+------------+------+---------+--------------+\n|   Title|   Type|      Genre|Release Year|Rating| Duration|       Country|\n+--------+-------+-----------+------------+------+---------+--------------+\n| Title 1|TV Show|     Comedy|        1955|    PG|3 Seasons|         Japan|\n| Title 2|TV Show|     Horror|        2020|     G|3 Seasons|         India|\n| Title 3|TV Show|     Action|        1966| TV-PG|  140 min| United States|\n| Title 4|  Movie|   Thriller|        2011| PG-13|3 Seasons|        Canada|\n| Title 5|TV Show|    Romance|        1959| TV-14|  172 min|         India|\n| Title 6|  Movie|     Action|        2007| PG-13|3 Seasons|         Japan|\n| Title 7|  Movie|    Romance|        1977| TV-14|   68 min| United States|\n| Title 8|  Movie|     Comedy|        1971| TV-PG|  104 min|         Japan|\n| Title 9|  Movie|      Drama|        2000| PG-13|2 Seasons|        Canada|\n|Title 10|  Movie|   Thriller|        1975| TV-MA|1 Seasons|         India|\n|Title 11|TV Show|    Romance|        2021| TV-14|  139 min|     Australia|\n|Title 12|TV Show|     Action|        1986| PG-13|   85 min|       Germany|\n|Title 13|  Movie|Documentary|        1997|     R|  129 min|     Australia|\n|Title 14|  Movie|     Sci-Fi|        1986| TV-PG|  129 min|       Germany|\n|Title 15|TV Show|Documentary|        1994| PG-13|3 Seasons|        Canada|\n|Title 16|TV Show|     Horror|        1996| TV-MA|  107 min|         Japan|\n|Title 17|  Movie|     Comedy|        1969| TV-PG|1 Seasons|United Kingdom|\n|Title 18|TV Show|      Drama|        1983|     G|  147 min|   South Korea|\n|Title 19|  Movie|    Romance|        2011|     G|1 Seasons|United Kingdom|\n|Title 20|  Movie|    Romance|        2023|     R|1 Seasons|United Kingdom|\n+--------+-------+-----------+------------+------+---------+--------------+\nonly showing top 20 rows\n\n"
     ]
    }
   ],
   "source": [
    "# Konfigurera anslutning till Azure Blob Storage\n",
    "storage_account_name = \"netflixdatastorage\"\n",
    "storage_account_key = \"z7QWlapoIIh1gcf+spZNwHkFdJDUZiHaZUqWKqorRAmvJfYzCxpavSe+ArBIxX0SjFKQ+uTMohdk+AStM8rloA==\"\n",
    "\n",
    "spark.conf.set(f\"fs.azure.account.key.{storage_account_name}.blob.core.windows.net\", storage_account_key)\n",
    "\n",
    "# Sökväg till min fil\n",
    "file_path = f\"wasbs://netflix-data@{storage_account_name}.blob.core.windows.net/Netflix_Movies_and_TV_Shows.csv\"\n",
    "\n",
    "# Ladda upp data till DataFrame\n",
    "netflix_data = spark.read.csv(file_path, header=True, inferSchema=True)\n",
    "netflix_data.show()\n"
   ]
  },
  {
   "cell_type": "code",
   "execution_count": 0,
   "metadata": {
    "application/vnd.databricks.v1+cell": {
     "cellMetadata": {
      "byteLimit": 2048000,
      "rowLimit": 10000
     },
     "inputWidgets": {},
     "nuid": "785cf407-6557-4d70-b483-cd596dac91ff",
     "showTitle": false,
     "tableResultSettingsMap": {},
     "title": ""
    }
   },
   "outputs": [],
   "source": [
    "# Ta bort alla rader med saknade värden (NaN) från netflix_data\n",
    "transformed_data = cleaned_data = netflix_data.dropna()\n",
    "\n"
   ]
  },
  {
   "cell_type": "code",
   "execution_count": 0,
   "metadata": {
    "application/vnd.databricks.v1+cell": {
     "cellMetadata": {
      "byteLimit": 2048000,
      "rowLimit": 10000
     },
     "inputWidgets": {},
     "nuid": "111049b8-874d-469f-82ba-99c278b1e56a",
     "showTitle": false,
     "tableResultSettingsMap": {},
     "title": ""
    }
   },
   "outputs": [],
   "source": [
    "# Raderar dublicerade rader\n",
    "transformed_data = netflix_data_no_duplicates = netflix_data.dropDuplicates()\n"
   ]
  },
  {
   "cell_type": "code",
   "execution_count": 0,
   "metadata": {
    "application/vnd.databricks.v1+cell": {
     "cellMetadata": {
      "byteLimit": 2048000,
      "rowLimit": 10000
     },
     "inputWidgets": {},
     "nuid": "ca672588-9033-4c18-8a76-b76bc7098402",
     "showTitle": false,
     "tableResultSettingsMap": {},
     "title": ""
    }
   },
   "outputs": [],
   "source": [
    "# Behåll endast filmer/TV-shower som släpptes efter år 2000\n",
    "transformed_data = filtered_data = netflix_data.filter(netflix_data[\"Release Year\"] > 2000)\n",
    "\n"
   ]
  },
  {
   "cell_type": "code",
   "execution_count": 0,
   "metadata": {
    "application/vnd.databricks.v1+cell": {
     "cellMetadata": {
      "byteLimit": 2048000,
      "rowLimit": 10000
     },
     "inputWidgets": {},
     "nuid": "f129da46-23fa-4260-afc1-116f68636563",
     "showTitle": false,
     "tableResultSettingsMap": {},
     "title": ""
    }
   },
   "outputs": [],
   "source": [
    "# Omvandla kolumnen \"Year\" till heltal (int)\n",
    "transformed_data = netflix_data = netflix_data.withColumn(\"Release Year\", netflix_data[\"Release Year\"].cast(\"int\"))\n"
   ]
  },
  {
   "cell_type": "code",
   "execution_count": 0,
   "metadata": {
    "application/vnd.databricks.v1+cell": {
     "cellMetadata": {
      "byteLimit": 2048000,
      "rowLimit": 10000
     },
     "inputWidgets": {},
     "nuid": "efeb01cd-de45-4914-aa70-ce587b35ec79",
     "showTitle": false,
     "tableResultSettingsMap": {},
     "title": ""
    }
   },
   "outputs": [],
   "source": [
    "# Ange sökvägen för att spara de transformerade data\n",
    "output_path = \"wasbs://netflix-data@netflixdatastorage.blob.core.windows.net/transformed_data\"\n",
    "\n",
    "# Skriv de transformerade data till en CSV-fil i den angivna containern\n",
    "transformed_data.write.csv(output_path, mode=\"overwrite\", header=True)\n"
   ]
  }
 ],
 "metadata": {
  "application/vnd.databricks.v1+notebook": {
   "computePreferences": null,
   "dashboards": [],
   "environmentMetadata": {
    "base_environment": "",
    "client": "1"
   },
   "language": "python",
   "notebookMetadata": {
    "pythonIndentUnit": 4
   },
   "notebookName": "NetflixDataETL",
   "widgets": {}
  },
  "language_info": {
   "name": "python"
  }
 },
 "nbformat": 4,
 "nbformat_minor": 0
}